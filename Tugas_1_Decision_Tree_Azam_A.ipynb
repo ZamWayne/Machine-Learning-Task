{
  "nbformat": 4,
  "nbformat_minor": 0,
  "metadata": {
    "colab": {
      "provenance": [],
      "mount_file_id": "1Z66QUYOu4l7Gl0DJtfIrW78W4MJBIzZV",
      "authorship_tag": "ABX9TyNzFU9jZ6F8pkKvZbmuI2jq",
      "include_colab_link": true
    },
    "kernelspec": {
      "name": "python3",
      "display_name": "Python 3"
    },
    "language_info": {
      "name": "python"
    }
  },
  "cells": [
    {
      "cell_type": "markdown",
      "metadata": {
        "id": "view-in-github",
        "colab_type": "text"
      },
      "source": [
        "<a href=\"https://colab.research.google.com/github/ZamWayne/Tugas-1-Decision-Tree/blob/main/Tugas_1_Decision_Tree_Azam_A.ipynb\" target=\"_parent\"><img src=\"https://colab.research.google.com/assets/colab-badge.svg\" alt=\"Open In Colab\"/></a>"
      ]
    },
    {
      "cell_type": "markdown",
      "source": [],
      "metadata": {
        "id": "m3i3kN-JyuBv"
      }
    },
    {
      "cell_type": "markdown",
      "source": [
        "Nama :Azam A\n",
        "\n",
        "Nim :1103204205\n",
        "\n",
        "Dataset :melb_house.csv\n",
        "\n",
        "Overview :"
      ],
      "metadata": {
        "id": "Q4o8XGoCyxdJ"
      }
    },
    {
      "cell_type": "code",
      "source": [
        "import pandas as pd\n",
        "from sklearn.model_selection import train_test_split\n",
        "from sklearn.tree import DecisionTreeRegressor\n",
        "from sklearn.metrics import mean_squared_error\n",
        "from sklearn.impute import SimpleImputer\n",
        "\n",
        "# Baca data dari file CSV\n",
        "url = \"/content/drive/MyDrive/Dataset/melb_data.csv\"\n",
        "data = pd.read_csv(url)\n",
        "\n",
        "# Pisahkan fitur dan target\n",
        "X = data.drop(['Address', 'Price'], axis=1)   # Fitur (hilangkan 'Address' dan 'Price')\n",
        "y = data['Price'] # Target\n",
        "\n",
        "# Lakukan one-hot encoding pada kolom kategorikal\n",
        "X = pd.get_dummies(X, drop_first=True)\n",
        "\n",
        "# Bagi data menjadi data latih dan data uji\n",
        "X_train, X_test, y_train, y_test = train_test_split(X, y, test_size=0.2, random_state=42)\n",
        "\n",
        "# Imputasi nilai-nilai yang hilang\n",
        "imputer = SimpleImputer(strategy='mean')\n",
        "X_train_imputed = imputer.fit_transform(X_train)\n",
        "X_test_imputed = imputer.transform(X_test)\n",
        "\n",
        "# Buat model Decision Tree\n",
        "model = DecisionTreeRegressor(random_state=42)\n",
        "\n",
        "# Latih model pada data latih yang sudah diimputasi\n",
        "model.fit(X_train_imputed, y_train)\n",
        "\n",
        "# Lakukan prediksi pada data uji yang sudah diimputasi\n",
        "y_pred = model.predict(X_test_imputed)\n",
        "\n",
        "# Evaluasi model\n",
        "mse = mean_squared_error(y_test, y_pred)\n",
        "print(\"Mean Squared Error:\", mse)\n"
      ],
      "metadata": {
        "colab": {
          "base_uri": "https://localhost:8080/"
        },
        "id": "1e3I_tk0CWdF",
        "outputId": "7b7bdb0c-958f-449e-b4d3-bde3ddd55a96"
      },
      "execution_count": 21,
      "outputs": [
        {
          "output_type": "stream",
          "name": "stdout",
          "text": [
            "Mean Squared Error: 182785663572.85544\n"
          ]
        }
      ]
    }
  ]
}